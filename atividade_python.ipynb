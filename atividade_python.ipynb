{
 "cells": [
  {
   "cell_type": "code",
   "execution_count": 8,
   "id": "13333867",
   "metadata": {},
   "outputs": [],
   "source": [
    "# Apresentando o  valor da multa na janela principal.\n",
    "\n",
    "import tkinter\n",
    "import tkinter as tk\n",
    "import tkinter.messagebox\n",
    "janela = tkinter.Tk()\n",
    "janela.geometry('800x600')\n",
    "janela.title('Leitor de velocidade')\n",
    "\n",
    "rotulovelocidade = tkinter.Label(janela, text='Insira a velocidade do automovel')\n",
    "rotulovelocidade.pack()\n",
    "\n",
    "campovelocidade = tkinter.Entry(janela)\n",
    "campovelocidade.pack()   \n",
    "    \n",
    "    \n",
    "def multa():\n",
    "    if int(campovelocidade.get()) <= 80:\n",
    "        tkinter.messagebox.showinfo('Dentro do limite', 'Não será multado!' )\n",
    "        rotulocerto = tkinter.Label(janela, text='Não será multado!')\n",
    "        rotulocerto.pack()\n",
    "    else:\n",
    "        tkinter.messagebox.showerror('Ultrapassou o limite', 'Será multado!' )\n",
    "        rotuloerrado = tkinter.Label(janela, text='Valor da multa:')\n",
    "        rotuloerrado.pack()\n",
    "        calcular = (int(campovelocidade.get())-80)*5.00,'reais'\n",
    "        valor_int = tk.IntVar()\n",
    "        valor_int.set(calcular)\n",
    "        rotulovalor = tkinter.Label(janela, textvariable=valor_int)\n",
    "        rotulovalor.pack()\n",
    "        \n",
    "        \n",
    "    \n",
    "botao = tkinter.Button(janela, text='Checar multa', command = multa)\n",
    "botao.pack()\n",
    "    \n",
    "\n",
    "janela.mainloop()"
   ]
  },
  {
   "cell_type": "code",
   "execution_count": 9,
   "id": "a5e9fa83",
   "metadata": {},
   "outputs": [
    {
     "name": "stdout",
     "output_type": "stream",
     "text": [
      "45 reais\n"
     ]
    }
   ],
   "source": [
    "# Apresentando o valor da multa no script.\n",
    "\n",
    "import tkinter\n",
    "import tkinter.messagebox\n",
    "janela = tkinter.Tk()\n",
    "janela.geometry('800x600')\n",
    "janela.title('Leitor de velocidade')\n",
    "\n",
    "rotulovelocidade = tkinter.Label(janela, text='Insira a velocidade do automovel')\n",
    "rotulovelocidade.pack()\n",
    "\n",
    "campovelocidade = tkinter.Entry(janela)\n",
    "campovelocidade.pack()   \n",
    "    \n",
    "    \n",
    "def multa():\n",
    "    if int(campovelocidade.get()) <= 80:\n",
    "        tkinter.messagebox.showinfo('Dentro do limite', 'Não será multado!' )\n",
    "        rotulocerto = tkinter.Label(janela, text='Não será multado!')\n",
    "        rotulocerto.pack()\n",
    "    else:\n",
    "        tkinter.messagebox.showerror('Ultrapassou o limite', 'Será multado!' )\n",
    "        rotuloerrado = tkinter.Label(janela, text='Será multado!')\n",
    "        rotuloerrado.pack()\n",
    "        calcular = (int(campovelocidade.get())-80)*5.00\n",
    "        print(calcular, 'reais')\n",
    "        \n",
    "        \n",
    "    \n",
    "botao = tkinter.Button(janela, text='Checar multa', command = multa)\n",
    "botao.pack()\n",
    "    \n",
    "\n",
    "janela.mainloop()"
   ]
  },
  {
   "cell_type": "code",
   "execution_count": null,
   "id": "f421ee81",
   "metadata": {},
   "outputs": [],
   "source": []
  }
 ],
 "metadata": {
  "kernelspec": {
   "display_name": "Python 3 (ipykernel)",
   "language": "python",
   "name": "python3"
  },
  "language_info": {
   "codemirror_mode": {
    "name": "ipython",
    "version": 3
   },
   "file_extension": ".py",
   "mimetype": "text/x-python",
   "name": "python",
   "nbconvert_exporter": "python",
   "pygments_lexer": "ipython3",
   "version": "3.11.4"
  }
 },
 "nbformat": 4,
 "nbformat_minor": 5
}
